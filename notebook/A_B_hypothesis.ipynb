{
 "cells": [
  {
   "metadata": {
    "ExecuteTime": {
     "end_time": "2024-12-31T12:26:06.250714Z",
     "start_time": "2024-12-31T12:26:05.162403Z"
    }
   },
   "cell_type": "code",
   "source": [
    "# Import the functions\n",
    "from src.data_processing import load_data\n",
    "from src.A_B_hypothesis import  test_margin_difference_between_zip_codes, test_risk_difference_across_provinces, test_risk_difference_by_gender, test_risk_difference_between_zip_codes"
   ],
   "id": "438bb4a7fe10f3a4",
   "outputs": [],
   "execution_count": 1
  },
  {
   "metadata": {
    "ExecuteTime": {
     "end_time": "2024-12-31T12:26:13.729676Z",
     "start_time": "2024-12-31T12:26:06.256699Z"
    }
   },
   "cell_type": "code",
   "source": [
    "# Load the dataset\n",
    "filepath = '../data/MachineLearningRating_v3.txt'\n",
    "data = load_data(filepath)"
   ],
   "id": "1ffdf326519df33f",
   "outputs": [],
   "execution_count": 2
  },
  {
   "metadata": {},
   "cell_type": "markdown",
   "source": "# Run all A/B hypothesis tests and print results",
   "id": "d69c911021ae521e"
  },
  {
   "metadata": {
    "ExecuteTime": {
     "end_time": "2024-12-31T12:26:13.966989Z",
     "start_time": "2024-12-31T12:26:13.883514Z"
    }
   },
   "cell_type": "code",
   "source": [
    "# Test for risk differences across provinces\n",
    "p_value_provinces = test_risk_difference_across_provinces(data)\n",
    "print(f\"P-value for risk difference across provinces: {p_value_provinces}\")\n",
    "if p_value_provinces < 0.05:\n",
    "    print(\"Reject the null hypothesis: There are significant risk differences across provinces.\")\n",
    "else:\n",
    "    print(\"Fail to reject the null hypothesis: There are no significant risk differences across provinces.\")"
   ],
   "id": "5b1ebb8dfeee55f9",
   "outputs": [
    {
     "name": "stdout",
     "output_type": "stream",
     "text": [
      "P-value for risk difference across provinces: 0.230256700249668\n",
      "Fail to reject the null hypothesis: There are no significant risk differences across provinces.\n"
     ]
    }
   ],
   "execution_count": 3
  },
  {
   "metadata": {
    "ExecuteTime": {
     "end_time": "2024-12-31T12:26:14.065338Z",
     "start_time": "2024-12-31T12:26:13.992890Z"
    }
   },
   "cell_type": "code",
   "source": [
    "# Test for risk differences between zip codes\n",
    "p_value_zip_codes = test_risk_difference_between_zip_codes(data)\n",
    "print(f\"P-value for risk difference between zip codes: {p_value_zip_codes}\")\n",
    "if p_value_zip_codes < 0.05:\n",
    "    print(\"Reject the null hypothesis: There are significant risk differences between zip codes.\")\n",
    "else:\n",
    "    print(\"Fail to reject the null hypothesis: There are no significant risk differences between zip codes.\")"
   ],
   "id": "a1b20b3a5de47bd4",
   "outputs": [
    {
     "name": "stdout",
     "output_type": "stream",
     "text": [
      "P-value for risk difference between zip codes: 0.31875112949403667\n",
      "Fail to reject the null hypothesis: There are no significant risk differences between zip codes.\n"
     ]
    }
   ],
   "execution_count": 4
  },
  {
   "metadata": {
    "ExecuteTime": {
     "end_time": "2024-12-31T12:26:14.207599Z",
     "start_time": "2024-12-31T12:26:14.127162Z"
    }
   },
   "cell_type": "code",
   "source": [
    "# Test for margin differences between zip codes\n",
    "p_value_margin_zip_codes = test_margin_difference_between_zip_codes(data)\n",
    "print(f\"P-value for margin difference between zip codes: {p_value_margin_zip_codes}\")\n",
    "if p_value_margin_zip_codes < 0.05:\n",
    "    print(\"Reject the null hypothesis: There are significant margin differences between zip codes.\")\n",
    "else:\n",
    "    print(\"Fail to reject the null hypothesis: There are no significant margin differences between zip codes.\")"
   ],
   "id": "f1940de292875fea",
   "outputs": [
    {
     "name": "stdout",
     "output_type": "stream",
     "text": [
      "P-value for margin difference between zip codes: nan\n",
      "Fail to reject the null hypothesis: There are no significant margin differences between zip codes.\n"
     ]
    },
    {
     "name": "stderr",
     "output_type": "stream",
     "text": [
      "/home/besu/PycharmProjects/Insurance-Premium-Prediction/.venv/lib/python3.12/site-packages/scipy/stats/_stats_py.py:6558: RuntimeWarning: invalid value encountered in scalar divide\n",
      "  svar = ((n1 - 1) * v1 + (n2 - 1) * v2) / df\n"
     ]
    }
   ],
   "execution_count": 5
  },
  {
   "metadata": {
    "ExecuteTime": {
     "end_time": "2024-12-31T12:26:14.463231Z",
     "start_time": "2024-12-31T12:26:14.221360Z"
    }
   },
   "cell_type": "code",
   "source": [
    "# Test for risk differences between women and men\n",
    "p_value_gender = test_risk_difference_by_gender(data)\n",
    "print(f\"P-value for risk difference between women and men: {p_value_gender}\")\n",
    "if p_value_gender < 0.05:\n",
    "    print(\"Reject the null hypothesis: There are significant risk differences between women and men.\")\n",
    "else:\n",
    "    print(\"Fail to reject the null hypothesis: There are no significant risk differences between women and men.\")\n"
   ],
   "id": "4165c8fd20ecb345",
   "outputs": [
    {
     "name": "stdout",
     "output_type": "stream",
     "text": [
      "P-value for risk difference between women and men: 0.8794768727798207\n",
      "Fail to reject the null hypothesis: There are no significant risk differences between women and men.\n"
     ]
    }
   ],
   "execution_count": 6
  }
 ],
 "metadata": {
  "kernelspec": {
   "display_name": "Python 3",
   "language": "python",
   "name": "python3"
  },
  "language_info": {
   "codemirror_mode": {
    "name": "ipython",
    "version": 2
   },
   "file_extension": ".py",
   "mimetype": "text/x-python",
   "name": "python",
   "nbconvert_exporter": "python",
   "pygments_lexer": "ipython2",
   "version": "2.7.6"
  }
 },
 "nbformat": 4,
 "nbformat_minor": 5
}
